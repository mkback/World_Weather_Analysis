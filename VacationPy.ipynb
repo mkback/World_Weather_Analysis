{
 "cells": [
  {
   "cell_type": "code",
   "execution_count": 4,
   "id": "86bb2536",
   "metadata": {},
   "outputs": [],
   "source": [
    "# Import the dependencies.\n",
    "import pandas as pd\n",
    "import gmaps\n",
    "import requests\n",
    "# Import the API key.\n",
    "from config import g_key"
   ]
  },
  {
   "cell_type": "code",
   "execution_count": 5,
   "id": "9cb2701b",
   "metadata": {},
   "outputs": [
    {
     "data": {
      "text/html": [
       "<div>\n",
       "<style scoped>\n",
       "    .dataframe tbody tr th:only-of-type {\n",
       "        vertical-align: middle;\n",
       "    }\n",
       "\n",
       "    .dataframe tbody tr th {\n",
       "        vertical-align: top;\n",
       "    }\n",
       "\n",
       "    .dataframe thead th {\n",
       "        text-align: right;\n",
       "    }\n",
       "</style>\n",
       "<table border=\"1\" class=\"dataframe\">\n",
       "  <thead>\n",
       "    <tr style=\"text-align: right;\">\n",
       "      <th></th>\n",
       "      <th>City_ID</th>\n",
       "      <th>City</th>\n",
       "      <th>Country</th>\n",
       "      <th>Date</th>\n",
       "      <th>Lat</th>\n",
       "      <th>Lng</th>\n",
       "      <th>Max Temp</th>\n",
       "      <th>Humidity</th>\n",
       "      <th>Cloudiness</th>\n",
       "      <th>Wind Speed</th>\n",
       "    </tr>\n",
       "  </thead>\n",
       "  <tbody>\n",
       "    <tr>\n",
       "      <th>0</th>\n",
       "      <td>0</td>\n",
       "      <td>Kaitangata</td>\n",
       "      <td>NZ</td>\n",
       "      <td>2021-09-22 18:18:29</td>\n",
       "      <td>-46.2817</td>\n",
       "      <td>169.8464</td>\n",
       "      <td>39.78</td>\n",
       "      <td>88</td>\n",
       "      <td>7</td>\n",
       "      <td>4.47</td>\n",
       "    </tr>\n",
       "    <tr>\n",
       "      <th>1</th>\n",
       "      <td>1</td>\n",
       "      <td>Beckley</td>\n",
       "      <td>US</td>\n",
       "      <td>2021-09-22 18:18:30</td>\n",
       "      <td>37.7782</td>\n",
       "      <td>-81.1882</td>\n",
       "      <td>76.59</td>\n",
       "      <td>100</td>\n",
       "      <td>90</td>\n",
       "      <td>21.85</td>\n",
       "    </tr>\n",
       "    <tr>\n",
       "      <th>2</th>\n",
       "      <td>2</td>\n",
       "      <td>Yellowknife</td>\n",
       "      <td>CA</td>\n",
       "      <td>2021-09-22 18:15:04</td>\n",
       "      <td>62.4560</td>\n",
       "      <td>-114.3525</td>\n",
       "      <td>52.39</td>\n",
       "      <td>69</td>\n",
       "      <td>49</td>\n",
       "      <td>9.10</td>\n",
       "    </tr>\n",
       "    <tr>\n",
       "      <th>3</th>\n",
       "      <td>3</td>\n",
       "      <td>Coihaique</td>\n",
       "      <td>CL</td>\n",
       "      <td>2021-09-22 18:18:30</td>\n",
       "      <td>-45.5752</td>\n",
       "      <td>-72.0662</td>\n",
       "      <td>56.01</td>\n",
       "      <td>58</td>\n",
       "      <td>75</td>\n",
       "      <td>2.30</td>\n",
       "    </tr>\n",
       "    <tr>\n",
       "      <th>4</th>\n",
       "      <td>4</td>\n",
       "      <td>Rikitea</td>\n",
       "      <td>PF</td>\n",
       "      <td>2021-09-22 18:18:31</td>\n",
       "      <td>-23.1203</td>\n",
       "      <td>-134.9692</td>\n",
       "      <td>73.62</td>\n",
       "      <td>72</td>\n",
       "      <td>0</td>\n",
       "      <td>20.83</td>\n",
       "    </tr>\n",
       "  </tbody>\n",
       "</table>\n",
       "</div>"
      ],
      "text/plain": [
       "   City_ID         City Country                 Date      Lat       Lng  \\\n",
       "0        0   Kaitangata      NZ  2021-09-22 18:18:29 -46.2817  169.8464   \n",
       "1        1      Beckley      US  2021-09-22 18:18:30  37.7782  -81.1882   \n",
       "2        2  Yellowknife      CA  2021-09-22 18:15:04  62.4560 -114.3525   \n",
       "3        3    Coihaique      CL  2021-09-22 18:18:30 -45.5752  -72.0662   \n",
       "4        4      Rikitea      PF  2021-09-22 18:18:31 -23.1203 -134.9692   \n",
       "\n",
       "   Max Temp  Humidity  Cloudiness  Wind Speed  \n",
       "0     39.78        88           7        4.47  \n",
       "1     76.59       100          90       21.85  \n",
       "2     52.39        69          49        9.10  \n",
       "3     56.01        58          75        2.30  \n",
       "4     73.62        72           0       20.83  "
      ]
     },
     "execution_count": 5,
     "metadata": {},
     "output_type": "execute_result"
    }
   ],
   "source": [
    "# Store the CSV you saved created in part one into a Data Frame \n",
    "city_data_df = pd.read_csv(\"weather_data/cities.csv\")\n",
    "city_data_df.head()"
   ]
  },
  {
   "cell_type": "code",
   "execution_count": 6,
   "id": "c8f5a7dc",
   "metadata": {},
   "outputs": [
    {
     "data": {
      "text/plain": [
       "City_ID         int64\n",
       "City           object\n",
       "Country        object\n",
       "Date           object\n",
       "Lat           float64\n",
       "Lng           float64\n",
       "Max Temp      float64\n",
       "Humidity        int64\n",
       "Cloudiness      int64\n",
       "Wind Speed    float64\n",
       "dtype: object"
      ]
     },
     "execution_count": 6,
     "metadata": {},
     "output_type": "execute_result"
    }
   ],
   "source": [
    "city_data_df.dtypes"
   ]
  },
  {
   "cell_type": "code",
   "execution_count": 7,
   "id": "f119c34d",
   "metadata": {},
   "outputs": [],
   "source": [
    "# Configure gmaps to use your Google API key.\n",
    "gmaps.configure(api_key= g_key)"
   ]
  },
  {
   "cell_type": "code",
   "execution_count": 21,
   "id": "481bce69",
   "metadata": {},
   "outputs": [
    {
     "data": {
      "application/vnd.jupyter.widget-view+json": {
       "model_id": "6121fb36d95446f19811a05218d61df8",
       "version_major": 2,
       "version_minor": 0
      },
      "text/plain": [
       "Figure(layout=FigureLayout(height='420px'))"
      ]
     },
     "metadata": {},
     "output_type": "display_data"
    }
   ],
   "source": [
    "# Heatmap of temperature\n",
    "# Get the latitude and longitude.\n",
    "locations = city_data_df[[\"Lat\", \"Lng\"]]\n",
    "# Get the maximum temperature.\n",
    "max_temp = city_data_df[\"Max Temp\"]\n",
    "temps = []\n",
    "for temp in max_temp:\n",
    "    temps.append(max(temp, 0))\n",
    "# Assign the figure variable.\n",
    "fig = gmaps.figure(center=(30.0, 31.0), zoom_level=1.5)\n",
    "# Assign the heatmap variable.\n",
    "heat_layer = gmaps.heatmap_layer(locations, weights=[max(temp, 0) for temp in max_temp], dissipating=False, max_intensity=300, point_radius=4)\n",
    "# Add the heatmap layer.\n",
    "fig.add_layer(heat_layer)\n",
    "# Call the figure to plot the data.\n",
    "\n",
    "fig"
   ]
  },
  {
   "cell_type": "code",
   "execution_count": 12,
   "id": "f572ccd0",
   "metadata": {},
   "outputs": [
    {
     "data": {
      "application/vnd.jupyter.widget-view+json": {
       "model_id": "6a0f2752360a4f898118bc83076a9405",
       "version_major": 2,
       "version_minor": 0
      },
      "text/plain": [
       "Figure(layout=FigureLayout(height='420px'))"
      ]
     },
     "metadata": {},
     "output_type": "display_data"
    }
   ],
   "source": [
    "# Heatmap of percent humidity \n",
    "locations = city_data_df[[\"Lat\", \"Lng\"]]\n",
    "humidity = city_data_df[\"Humidity\"]\n",
    "fig = gmaps.figure(center=(30.0, 31.0), zoom_level = 1.5)\n",
    "heat_layer = gmaps.heatmap_layer(locations, weights= humidity, dissipating=False, max_intensity=300, point_radius=4)\n",
    "\n",
    "fig.add_layer(heat_layer)\n",
    "fig"
   ]
  },
  {
   "cell_type": "code",
   "execution_count": 19,
   "id": "b2f1cb30",
   "metadata": {},
   "outputs": [
    {
     "data": {
      "application/vnd.jupyter.widget-view+json": {
       "model_id": "53aebe0c722947ad9ec3da810a60c0c9",
       "version_major": 2,
       "version_minor": 0
      },
      "text/plain": [
       "Figure(layout=FigureLayout(height='420px'))"
      ]
     },
     "metadata": {},
     "output_type": "display_data"
    }
   ],
   "source": [
    "# Heatmap for cloudiness \n",
    "locations = city_data_df[[\"Lat\", \"Lng\"]]\n",
    "cloudiness = city_data_df[\"Cloudiness\"]\n",
    "fig = gmaps.figure(center= (30.0, 31.0), zoom_level = 1.5)\n",
    "heat_layer = gmaps.heatmap_layer(locations, weights = humidity, dissipating= False, max_intensity = 300, point_radius= 4)\n",
    "\n",
    "fig.add_layer(heat_layer)\n",
    "fig"
   ]
  },
  {
   "cell_type": "code",
   "execution_count": 28,
   "id": "031fca86",
   "metadata": {},
   "outputs": [
    {
     "data": {
      "application/vnd.jupyter.widget-view+json": {
       "model_id": "5f46a81085f34139982df9c4cf29b45b",
       "version_major": 2,
       "version_minor": 0
      },
      "text/plain": [
       "Figure(layout=FigureLayout(height='420px'))"
      ]
     },
     "metadata": {},
     "output_type": "display_data"
    }
   ],
   "source": [
    "# heatmap for wind speed\n",
    "locations = city_data_df[[\"Lat\", \"Lng\"]]\n",
    "winds = city_data_df[\"Wind Speed\"]\n",
    "fig = gmaps.figure(center= (30.0, 31.0), zoom_level = 1.5)\n",
    "heat_layer = gmaps.heatmap_layer(locations, weights = winds, dissipating= False, max_intensity = 50, point_radius= 4)\n",
    "\n",
    "fig.add_layer(heat_layer)\n",
    "fig\n"
   ]
  },
  {
   "cell_type": "code",
   "execution_count": 29,
   "id": "9bb0c260",
   "metadata": {},
   "outputs": [
    {
     "name": "stdout",
     "output_type": "stream",
     "text": [
      "What is the min temp you would like for your trip?75\n",
      "What is the max temp you would like for your trip?90\n"
     ]
    }
   ],
   "source": [
    "# Ask the customer to add a min & max value \n",
    "min_temp = float(input(\"What is the min temp you would like for your trip?\"))\n",
    "max_temp = float(input(\"What is the max temp you would like for your trip?\"))"
   ]
  },
  {
   "cell_type": "code",
   "execution_count": 35,
   "id": "2c328f83",
   "metadata": {},
   "outputs": [
    {
     "data": {
      "text/html": [
       "<div>\n",
       "<style scoped>\n",
       "    .dataframe tbody tr th:only-of-type {\n",
       "        vertical-align: middle;\n",
       "    }\n",
       "\n",
       "    .dataframe tbody tr th {\n",
       "        vertical-align: top;\n",
       "    }\n",
       "\n",
       "    .dataframe thead th {\n",
       "        text-align: right;\n",
       "    }\n",
       "</style>\n",
       "<table border=\"1\" class=\"dataframe\">\n",
       "  <thead>\n",
       "    <tr style=\"text-align: right;\">\n",
       "      <th></th>\n",
       "      <th>City_ID</th>\n",
       "      <th>City</th>\n",
       "      <th>Country</th>\n",
       "      <th>Date</th>\n",
       "      <th>Lat</th>\n",
       "      <th>Lng</th>\n",
       "      <th>Max Temp</th>\n",
       "      <th>Humidity</th>\n",
       "      <th>Cloudiness</th>\n",
       "      <th>Wind Speed</th>\n",
       "    </tr>\n",
       "  </thead>\n",
       "  <tbody>\n",
       "    <tr>\n",
       "      <th>1</th>\n",
       "      <td>1</td>\n",
       "      <td>Beckley</td>\n",
       "      <td>US</td>\n",
       "      <td>2021-09-22 18:18:30</td>\n",
       "      <td>37.7782</td>\n",
       "      <td>-81.1882</td>\n",
       "      <td>76.59</td>\n",
       "      <td>100</td>\n",
       "      <td>90</td>\n",
       "      <td>21.85</td>\n",
       "    </tr>\n",
       "    <tr>\n",
       "      <th>7</th>\n",
       "      <td>7</td>\n",
       "      <td>Soyo</td>\n",
       "      <td>AO</td>\n",
       "      <td>2021-09-22 18:18:33</td>\n",
       "      <td>-6.1349</td>\n",
       "      <td>12.3689</td>\n",
       "      <td>75.40</td>\n",
       "      <td>81</td>\n",
       "      <td>72</td>\n",
       "      <td>11.01</td>\n",
       "    </tr>\n",
       "    <tr>\n",
       "      <th>8</th>\n",
       "      <td>8</td>\n",
       "      <td>Malindi</td>\n",
       "      <td>KE</td>\n",
       "      <td>2021-09-22 18:18:34</td>\n",
       "      <td>-3.2175</td>\n",
       "      <td>40.1191</td>\n",
       "      <td>76.50</td>\n",
       "      <td>84</td>\n",
       "      <td>6</td>\n",
       "      <td>15.93</td>\n",
       "    </tr>\n",
       "    <tr>\n",
       "      <th>9</th>\n",
       "      <td>9</td>\n",
       "      <td>Albany</td>\n",
       "      <td>US</td>\n",
       "      <td>2021-09-22 18:16:56</td>\n",
       "      <td>42.6001</td>\n",
       "      <td>-73.9662</td>\n",
       "      <td>80.80</td>\n",
       "      <td>74</td>\n",
       "      <td>100</td>\n",
       "      <td>1.99</td>\n",
       "    </tr>\n",
       "    <tr>\n",
       "      <th>10</th>\n",
       "      <td>10</td>\n",
       "      <td>Pemangkat</td>\n",
       "      <td>ID</td>\n",
       "      <td>2021-09-22 18:18:35</td>\n",
       "      <td>1.1667</td>\n",
       "      <td>108.9667</td>\n",
       "      <td>79.29</td>\n",
       "      <td>84</td>\n",
       "      <td>92</td>\n",
       "      <td>2.64</td>\n",
       "    </tr>\n",
       "  </tbody>\n",
       "</table>\n",
       "</div>"
      ],
      "text/plain": [
       "    City_ID       City Country                 Date      Lat       Lng  \\\n",
       "1         1    Beckley      US  2021-09-22 18:18:30  37.7782  -81.1882   \n",
       "7         7       Soyo      AO  2021-09-22 18:18:33  -6.1349   12.3689   \n",
       "8         8    Malindi      KE  2021-09-22 18:18:34  -3.2175   40.1191   \n",
       "9         9     Albany      US  2021-09-22 18:16:56  42.6001  -73.9662   \n",
       "10       10  Pemangkat      ID  2021-09-22 18:18:35   1.1667  108.9667   \n",
       "\n",
       "    Max Temp  Humidity  Cloudiness  Wind Speed  \n",
       "1      76.59       100          90       21.85  \n",
       "7      75.40        81          72       11.01  \n",
       "8      76.50        84           6       15.93  \n",
       "9      80.80        74         100        1.99  \n",
       "10     79.29        84          92        2.64  "
      ]
     },
     "execution_count": 35,
     "metadata": {},
     "output_type": "execute_result"
    }
   ],
   "source": [
    "# Filter Data set to min & max customer gave\n",
    "preferred_cities_df = city_data_df.loc[(city_data_df[\"Max Temp\"]<= max_temp) &\n",
    "                                      (city_data_df[\"Max Temp\"]>= min_temp)]\n",
    "preferred_cities_df.head()"
   ]
  },
  {
   "cell_type": "code",
   "execution_count": 40,
   "id": "ba143a28",
   "metadata": {},
   "outputs": [
    {
     "data": {
      "text/plain": [
       "City_ID       170\n",
       "City          170\n",
       "Country       167\n",
       "Date          170\n",
       "Lat           170\n",
       "Lng           170\n",
       "Max Temp      170\n",
       "Humidity      170\n",
       "Cloudiness    170\n",
       "Wind Speed    170\n",
       "dtype: int64"
      ]
     },
     "execution_count": 40,
     "metadata": {},
     "output_type": "execute_result"
    }
   ],
   "source": [
    "preferred_cities_df.count()"
   ]
  },
  {
   "cell_type": "code",
   "execution_count": 46,
   "id": "7b5ee500",
   "metadata": {},
   "outputs": [],
   "source": [
    "preferred_cities_df= preferred_cities_df.dropna()"
   ]
  },
  {
   "cell_type": "code",
   "execution_count": 47,
   "id": "d37853a9",
   "metadata": {},
   "outputs": [
    {
     "data": {
      "text/plain": [
       "City_ID       167\n",
       "City          167\n",
       "Country       167\n",
       "Date          167\n",
       "Lat           167\n",
       "Lng           167\n",
       "Max Temp      167\n",
       "Humidity      167\n",
       "Cloudiness    167\n",
       "Wind Speed    167\n",
       "dtype: int64"
      ]
     },
     "execution_count": 47,
     "metadata": {},
     "output_type": "execute_result"
    }
   ],
   "source": [
    "preferred_cities_df.count()"
   ]
  },
  {
   "cell_type": "code",
   "execution_count": 48,
   "id": "4d267a25",
   "metadata": {},
   "outputs": [
    {
     "data": {
      "text/html": [
       "<div>\n",
       "<style scoped>\n",
       "    .dataframe tbody tr th:only-of-type {\n",
       "        vertical-align: middle;\n",
       "    }\n",
       "\n",
       "    .dataframe tbody tr th {\n",
       "        vertical-align: top;\n",
       "    }\n",
       "\n",
       "    .dataframe thead th {\n",
       "        text-align: right;\n",
       "    }\n",
       "</style>\n",
       "<table border=\"1\" class=\"dataframe\">\n",
       "  <thead>\n",
       "    <tr style=\"text-align: right;\">\n",
       "      <th></th>\n",
       "      <th>City</th>\n",
       "      <th>Country</th>\n",
       "      <th>Max Temp</th>\n",
       "      <th>Lat</th>\n",
       "      <th>Lng</th>\n",
       "      <th>Hotel Name</th>\n",
       "    </tr>\n",
       "  </thead>\n",
       "  <tbody>\n",
       "    <tr>\n",
       "      <th>1</th>\n",
       "      <td>Beckley</td>\n",
       "      <td>US</td>\n",
       "      <td>76.59</td>\n",
       "      <td>37.7782</td>\n",
       "      <td>-81.1882</td>\n",
       "      <td></td>\n",
       "    </tr>\n",
       "    <tr>\n",
       "      <th>7</th>\n",
       "      <td>Soyo</td>\n",
       "      <td>AO</td>\n",
       "      <td>75.40</td>\n",
       "      <td>-6.1349</td>\n",
       "      <td>12.3689</td>\n",
       "      <td></td>\n",
       "    </tr>\n",
       "    <tr>\n",
       "      <th>8</th>\n",
       "      <td>Malindi</td>\n",
       "      <td>KE</td>\n",
       "      <td>76.50</td>\n",
       "      <td>-3.2175</td>\n",
       "      <td>40.1191</td>\n",
       "      <td></td>\n",
       "    </tr>\n",
       "    <tr>\n",
       "      <th>9</th>\n",
       "      <td>Albany</td>\n",
       "      <td>US</td>\n",
       "      <td>80.80</td>\n",
       "      <td>42.6001</td>\n",
       "      <td>-73.9662</td>\n",
       "      <td></td>\n",
       "    </tr>\n",
       "    <tr>\n",
       "      <th>10</th>\n",
       "      <td>Pemangkat</td>\n",
       "      <td>ID</td>\n",
       "      <td>79.29</td>\n",
       "      <td>1.1667</td>\n",
       "      <td>108.9667</td>\n",
       "      <td></td>\n",
       "    </tr>\n",
       "  </tbody>\n",
       "</table>\n",
       "</div>"
      ],
      "text/plain": [
       "         City Country  Max Temp      Lat       Lng Hotel Name\n",
       "1     Beckley      US     76.59  37.7782  -81.1882           \n",
       "7        Soyo      AO     75.40  -6.1349   12.3689           \n",
       "8     Malindi      KE     76.50  -3.2175   40.1191           \n",
       "9      Albany      US     80.80  42.6001  -73.9662           \n",
       "10  Pemangkat      ID     79.29   1.1667  108.9667           "
      ]
     },
     "execution_count": 48,
     "metadata": {},
     "output_type": "execute_result"
    }
   ],
   "source": [
    "#Create DF for hotels in the area\n",
    "hotel_df = preferred_cities_df[[\"City\", \"Country\", \"Max Temp\", \"Lat\", \"Lng\"]].copy()\n",
    "hotel_df[\"Hotel Name\"]= \"\"\n",
    "hotel_df.head()"
   ]
  },
  {
   "cell_type": "code",
   "execution_count": 3,
   "id": "88dcfc88",
   "metadata": {},
   "outputs": [
    {
     "ename": "NameError",
     "evalue": "name 'g_key' is not defined",
     "output_type": "error",
     "traceback": [
      "\u001b[0;31m---------------------------------------------------------------------------\u001b[0m",
      "\u001b[0;31mNameError\u001b[0m                                 Traceback (most recent call last)",
      "\u001b[0;32m<ipython-input-3-2f0d57112527>\u001b[0m in \u001b[0;36m<module>\u001b[0;34m\u001b[0m\n\u001b[1;32m      3\u001b[0m     \u001b[0;34m\"radius\"\u001b[0m\u001b[0;34m:\u001b[0m \u001b[0;36m5000\u001b[0m\u001b[0;34m,\u001b[0m\u001b[0;34m\u001b[0m\u001b[0;34m\u001b[0m\u001b[0m\n\u001b[1;32m      4\u001b[0m     \u001b[0;34m\"type\"\u001b[0m\u001b[0;34m:\u001b[0m \u001b[0;34m\"lodging\"\u001b[0m\u001b[0;34m,\u001b[0m\u001b[0;34m\u001b[0m\u001b[0;34m\u001b[0m\u001b[0m\n\u001b[0;32m----> 5\u001b[0;31m     \"key\": g_key }\n\u001b[0m\u001b[1;32m      6\u001b[0m \u001b[0;31m#Iterate through the Data Frame\u001b[0m\u001b[0;34m\u001b[0m\u001b[0;34m\u001b[0m\u001b[0;34m\u001b[0m\u001b[0m\n\u001b[1;32m      7\u001b[0m \u001b[0;32mfor\u001b[0m \u001b[0mindex\u001b[0m\u001b[0;34m,\u001b[0m \u001b[0mrow\u001b[0m \u001b[0;32min\u001b[0m \u001b[0mhotel_df\u001b[0m\u001b[0;34m.\u001b[0m\u001b[0miterrows\u001b[0m\u001b[0;34m(\u001b[0m\u001b[0;34m)\u001b[0m\u001b[0;34m:\u001b[0m\u001b[0;34m\u001b[0m\u001b[0;34m\u001b[0m\u001b[0m\n",
      "\u001b[0;31mNameError\u001b[0m: name 'g_key' is not defined"
     ]
    }
   ],
   "source": [
    "# Set parameters to search for a hotel.\n",
    "params = {\n",
    "    \"radius\": 5000,\n",
    "    \"type\": \"lodging\",\n",
    "    \"key\": g_key }\n",
    "#Iterate through the Data Frame\n",
    "for index, row in hotel_df.iterrows():\n",
    "    # get the lats and lngs\n",
    "    lat= row[\"Lat\"]\n",
    "    lng= row[\"Lng\"]\n",
    "    #add lat & lng to location key for the params \n",
    "    params[\"location\"]= f\"{lat}, {lng}\"\n",
    "    #Use search temrs \"lodging\" and lat & lng\n",
    "    base_url = \"https://maps.googleapis.com/maps/api/place/nearbysearch/json\"\n",
    "    #make a request and get the json data \n",
    "    hotels = requests.get(base_url, params=params).json()\n",
    "    # grab the first hotel from the results and store the name \n",
    "    try:\n",
    "        hotel_df.loc[index, \"Hotel Name\"]= hotels[\"results\"][0][\"name\"]\n",
    "    except IndexError:\n",
    "        print(\"Hotel not found... skipping\")"
   ]
  },
  {
   "cell_type": "code",
   "execution_count": 53,
   "id": "e3256776",
   "metadata": {},
   "outputs": [
    {
     "data": {
      "text/html": [
       "<div>\n",
       "<style scoped>\n",
       "    .dataframe tbody tr th:only-of-type {\n",
       "        vertical-align: middle;\n",
       "    }\n",
       "\n",
       "    .dataframe tbody tr th {\n",
       "        vertical-align: top;\n",
       "    }\n",
       "\n",
       "    .dataframe thead th {\n",
       "        text-align: right;\n",
       "    }\n",
       "</style>\n",
       "<table border=\"1\" class=\"dataframe\">\n",
       "  <thead>\n",
       "    <tr style=\"text-align: right;\">\n",
       "      <th></th>\n",
       "      <th>City</th>\n",
       "      <th>Country</th>\n",
       "      <th>Max Temp</th>\n",
       "      <th>Lat</th>\n",
       "      <th>Lng</th>\n",
       "      <th>Hotel Name</th>\n",
       "    </tr>\n",
       "  </thead>\n",
       "  <tbody>\n",
       "    <tr>\n",
       "      <th>1</th>\n",
       "      <td>Beckley</td>\n",
       "      <td>US</td>\n",
       "      <td>76.59</td>\n",
       "      <td>37.7782</td>\n",
       "      <td>-81.1882</td>\n",
       "      <td>Country Inn &amp; Suites by Radisson, Beckley, WV</td>\n",
       "    </tr>\n",
       "    <tr>\n",
       "      <th>7</th>\n",
       "      <td>Soyo</td>\n",
       "      <td>AO</td>\n",
       "      <td>75.40</td>\n",
       "      <td>-6.1349</td>\n",
       "      <td>12.3689</td>\n",
       "      <td>Hotel Mpampa</td>\n",
       "    </tr>\n",
       "    <tr>\n",
       "      <th>8</th>\n",
       "      <td>Malindi</td>\n",
       "      <td>KE</td>\n",
       "      <td>76.50</td>\n",
       "      <td>-3.2175</td>\n",
       "      <td>40.1191</td>\n",
       "      <td>African House Resort</td>\n",
       "    </tr>\n",
       "    <tr>\n",
       "      <th>9</th>\n",
       "      <td>Albany</td>\n",
       "      <td>US</td>\n",
       "      <td>80.80</td>\n",
       "      <td>42.6001</td>\n",
       "      <td>-73.9662</td>\n",
       "      <td></td>\n",
       "    </tr>\n",
       "    <tr>\n",
       "      <th>10</th>\n",
       "      <td>Pemangkat</td>\n",
       "      <td>ID</td>\n",
       "      <td>79.29</td>\n",
       "      <td>1.1667</td>\n",
       "      <td>108.9667</td>\n",
       "      <td>Ramah Kost KITA</td>\n",
       "    </tr>\n",
       "    <tr>\n",
       "      <th>15</th>\n",
       "      <td>Adre</td>\n",
       "      <td>TD</td>\n",
       "      <td>81.03</td>\n",
       "      <td>13.4667</td>\n",
       "      <td>22.2000</td>\n",
       "      <td></td>\n",
       "    </tr>\n",
       "    <tr>\n",
       "      <th>24</th>\n",
       "      <td>Bac Lieu</td>\n",
       "      <td>VN</td>\n",
       "      <td>78.53</td>\n",
       "      <td>9.2850</td>\n",
       "      <td>105.7244</td>\n",
       "      <td>Khách sạn Sài Gòn Bạc Liêu</td>\n",
       "    </tr>\n",
       "    <tr>\n",
       "      <th>35</th>\n",
       "      <td>Katsuura</td>\n",
       "      <td>JP</td>\n",
       "      <td>80.71</td>\n",
       "      <td>35.1333</td>\n",
       "      <td>140.3000</td>\n",
       "      <td>Katsuura Hotel Mikazuki</td>\n",
       "    </tr>\n",
       "    <tr>\n",
       "      <th>38</th>\n",
       "      <td>Tigzirt</td>\n",
       "      <td>DZ</td>\n",
       "      <td>76.50</td>\n",
       "      <td>36.8886</td>\n",
       "      <td>4.1198</td>\n",
       "      <td>Bloc D tazoumbirt (amar)</td>\n",
       "    </tr>\n",
       "    <tr>\n",
       "      <th>39</th>\n",
       "      <td>Lompoc</td>\n",
       "      <td>US</td>\n",
       "      <td>87.21</td>\n",
       "      <td>34.6391</td>\n",
       "      <td>-120.4579</td>\n",
       "      <td>Holiday Inn Express Lompoc, an IHG Hotel</td>\n",
       "    </tr>\n",
       "  </tbody>\n",
       "</table>\n",
       "</div>"
      ],
      "text/plain": [
       "         City Country  Max Temp      Lat       Lng  \\\n",
       "1     Beckley      US     76.59  37.7782  -81.1882   \n",
       "7        Soyo      AO     75.40  -6.1349   12.3689   \n",
       "8     Malindi      KE     76.50  -3.2175   40.1191   \n",
       "9      Albany      US     80.80  42.6001  -73.9662   \n",
       "10  Pemangkat      ID     79.29   1.1667  108.9667   \n",
       "15       Adre      TD     81.03  13.4667   22.2000   \n",
       "24   Bac Lieu      VN     78.53   9.2850  105.7244   \n",
       "35   Katsuura      JP     80.71  35.1333  140.3000   \n",
       "38    Tigzirt      DZ     76.50  36.8886    4.1198   \n",
       "39     Lompoc      US     87.21  34.6391 -120.4579   \n",
       "\n",
       "                                       Hotel Name  \n",
       "1   Country Inn & Suites by Radisson, Beckley, WV  \n",
       "7                                    Hotel Mpampa  \n",
       "8                            African House Resort  \n",
       "9                                                  \n",
       "10                                Ramah Kost KITA  \n",
       "15                                                 \n",
       "24                     Khách sạn Sài Gòn Bạc Liêu  \n",
       "35                        Katsuura Hotel Mikazuki  \n",
       "38                       Bloc D tazoumbirt (amar)  \n",
       "39       Holiday Inn Express Lompoc, an IHG Hotel  "
      ]
     },
     "execution_count": 53,
     "metadata": {},
     "output_type": "execute_result"
    }
   ],
   "source": [
    "hotel_df.head(10)"
   ]
  },
  {
   "cell_type": "code",
   "execution_count": null,
   "id": "a282bc57",
   "metadata": {},
   "outputs": [],
   "source": []
  },
  {
   "cell_type": "code",
   "execution_count": 55,
   "id": "6d1e953e",
   "metadata": {},
   "outputs": [
    {
     "data": {
      "application/vnd.jupyter.widget-view+json": {
       "model_id": "732854740f924112bc17b120e33d113f",
       "version_major": 2,
       "version_minor": 0
      },
      "text/plain": [
       "Figure(layout=FigureLayout(height='420px'))"
      ]
     },
     "metadata": {},
     "output_type": "display_data"
    }
   ],
   "source": [
    "# Add a heatmap of temperature for the vacation spots and marker for each city.\n",
    "locations = hotel_df[[\"Lat\", \"Lng\"]]\n",
    "max_temp = hotel_df[\"Max Temp\"]\n",
    "fig = gmaps.figure(center=(30.0, 31.0), zoom_level=1.5)\n",
    "heat_layer = gmaps.heatmap_layer(locations, weights=max_temp,\n",
    "             dissipating=False, max_intensity=300, point_radius=4)\n",
    "marker_layer = gmaps.marker_layer(locations)\n",
    "fig.add_layer(heat_layer)\n",
    "fig.add_layer(marker_layer)\n",
    "# Call the figure to plot the data.\n",
    "fig"
   ]
  },
  {
   "cell_type": "code",
   "execution_count": 56,
   "id": "88e6b9bc",
   "metadata": {},
   "outputs": [],
   "source": [
    "info_box_template = \"\"\"\n",
    "<dl>\n",
    "<dt>Hotel Name</dt><dd>{Hotel Name}</dd>\n",
    "<dt>City</dt><dd>{City}</dd>\n",
    "<dt>Country</dt><dd>{Country}</dd>\n",
    "<dt>Max Temp</dt><dd>{Max Temp} °F</dd>\n",
    "</dl>\n",
    "\"\"\"\n",
    "# Store the DataFrame Row.\n",
    "hotel_info = [info_box_template.format(**row) for index, row in hotel_df.iterrows()]"
   ]
  },
  {
   "cell_type": "code",
   "execution_count": 1,
   "id": "0c1395f5",
   "metadata": {},
   "outputs": [
    {
     "ename": "NameError",
     "evalue": "name 'hotel_df' is not defined",
     "output_type": "error",
     "traceback": [
      "\u001b[0;31m---------------------------------------------------------------------------\u001b[0m",
      "\u001b[0;31mNameError\u001b[0m                                 Traceback (most recent call last)",
      "\u001b[0;32m<ipython-input-1-e2f5f2acde72>\u001b[0m in \u001b[0;36m<module>\u001b[0;34m\u001b[0m\n\u001b[1;32m      1\u001b[0m \u001b[0;31m# Add a heatmap of temperature for the vacation spots and a pop-up marker for each city.\u001b[0m\u001b[0;34m\u001b[0m\u001b[0;34m\u001b[0m\u001b[0;34m\u001b[0m\u001b[0m\n\u001b[0;32m----> 2\u001b[0;31m \u001b[0mlocations\u001b[0m \u001b[0;34m=\u001b[0m \u001b[0mhotel_df\u001b[0m\u001b[0;34m[\u001b[0m\u001b[0;34m[\u001b[0m\u001b[0;34m\"Lat\"\u001b[0m\u001b[0;34m,\u001b[0m \u001b[0;34m\"Lng\"\u001b[0m\u001b[0;34m]\u001b[0m\u001b[0;34m]\u001b[0m\u001b[0;34m\u001b[0m\u001b[0;34m\u001b[0m\u001b[0m\n\u001b[0m\u001b[1;32m      3\u001b[0m \u001b[0mmax_temp\u001b[0m \u001b[0;34m=\u001b[0m \u001b[0mhotel_df\u001b[0m\u001b[0;34m[\u001b[0m\u001b[0;34m\"Max Temp\"\u001b[0m\u001b[0;34m]\u001b[0m\u001b[0;34m\u001b[0m\u001b[0;34m\u001b[0m\u001b[0m\n\u001b[1;32m      4\u001b[0m \u001b[0mfig\u001b[0m \u001b[0;34m=\u001b[0m \u001b[0mgmaps\u001b[0m\u001b[0;34m.\u001b[0m\u001b[0mfigure\u001b[0m\u001b[0;34m(\u001b[0m\u001b[0mcenter\u001b[0m\u001b[0;34m=\u001b[0m\u001b[0;34m(\u001b[0m\u001b[0;36m30.0\u001b[0m\u001b[0;34m,\u001b[0m \u001b[0;36m31.0\u001b[0m\u001b[0;34m)\u001b[0m\u001b[0;34m,\u001b[0m \u001b[0mzoom_level\u001b[0m\u001b[0;34m=\u001b[0m\u001b[0;36m1.5\u001b[0m\u001b[0;34m)\u001b[0m\u001b[0;34m\u001b[0m\u001b[0;34m\u001b[0m\u001b[0m\n\u001b[1;32m      5\u001b[0m heat_layer = gmaps.heatmap_layer(locations, weights=max_temp,dissipating=False,\n",
      "\u001b[0;31mNameError\u001b[0m: name 'hotel_df' is not defined"
     ]
    }
   ],
   "source": [
    "# Add a heatmap of temperature for the vacation spots and a pop-up marker for each city.\n",
    "locations = hotel_df[[\"Lat\", \"Lng\"]]\n",
    "max_temp = hotel_df[\"Max Temp\"]\n",
    "fig = gmaps.figure(center=(30.0, 31.0), zoom_level=1.5)\n",
    "heat_layer = gmaps.heatmap_layer(locations, weights=max_temp,dissipating=False,\n",
    "             max_intensity=300, point_radius=4)\n",
    "marker_layer = gmaps.marker_layer(locations, info_box_content=hotel_info)\n",
    "fig.add_layer(heat_layer)\n",
    "fig.add_layer(marker_layer)\n",
    "\n",
    "# Call the figure to plot the data.\n",
    "fig"
   ]
  },
  {
   "cell_type": "code",
   "execution_count": null,
   "id": "1dcf82d2",
   "metadata": {},
   "outputs": [],
   "source": []
  }
 ],
 "metadata": {
  "kernelspec": {
   "display_name": "PythonData",
   "language": "python",
   "name": "pythondata"
  },
  "language_info": {
   "codemirror_mode": {
    "name": "ipython",
    "version": 3
   },
   "file_extension": ".py",
   "mimetype": "text/x-python",
   "name": "python",
   "nbconvert_exporter": "python",
   "pygments_lexer": "ipython3",
   "version": "3.7.10"
  }
 },
 "nbformat": 4,
 "nbformat_minor": 5
}
