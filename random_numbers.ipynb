{
 "cells": [
  {
   "cell_type": "code",
   "execution_count": 1,
   "id": "67a41c3c-8485-4c80-a16a-656b111ad532",
   "metadata": {},
   "outputs": [],
   "source": [
    "# import the random module\n",
    "import random"
   ]
  },
  {
   "cell_type": "code",
   "execution_count": 2,
   "id": "2cc5ff2a-edb1-4211-b1a8-135ba43d9d26",
   "metadata": {},
   "outputs": [
    {
     "data": {
      "text/plain": [
       "-33"
      ]
     },
     "execution_count": 2,
     "metadata": {},
     "output_type": "execute_result"
    }
   ],
   "source": [
    "random.randint(-90,90)"
   ]
  },
  {
   "cell_type": "code",
   "execution_count": 5,
   "id": "d06ab786-233d-4884-9e1b-50094f9cd7f0",
   "metadata": {},
   "outputs": [
    {
     "data": {
      "text/plain": [
       "0.15770226935299514"
      ]
     },
     "execution_count": 5,
     "metadata": {},
     "output_type": "execute_result"
    }
   ],
   "source": [
    "random.random()"
   ]
  },
  {
   "cell_type": "code",
   "execution_count": 6,
   "id": "eff626c2-afb5-4f18-8501-2561da89bc49",
   "metadata": {},
   "outputs": [],
   "source": [
    "x = 1\n",
    "lattitudes = []\n",
    "while x < 11:\n",
    "    random_lat = random.randint(-90,89) + random.random()\n",
    "    lattitudes.append(random_lat)\n",
    "    x += 1\n"
   ]
  },
  {
   "cell_type": "code",
   "execution_count": 7,
   "id": "523bb4ab-5180-4887-9242-d7545ed11782",
   "metadata": {},
   "outputs": [
    {
     "data": {
      "text/plain": [
       "[58.081888973147365,\n",
       " 86.70621592772325,\n",
       " 88.60335172881008,\n",
       " 58.97181285195369,\n",
       " -26.100036339450835,\n",
       " -71.88067786250866,\n",
       " -31.335513479207282,\n",
       " -19.287906993684242,\n",
       " 4.791298789967466,\n",
       " 9.825562481965457]"
      ]
     },
     "execution_count": 7,
     "metadata": {},
     "output_type": "execute_result"
    }
   ],
   "source": [
    "lattitudes"
   ]
  },
  {
   "cell_type": "code",
   "execution_count": 9,
   "id": "3ea712e3-52d6-4492-9cab-ad237c0a89fd",
   "metadata": {},
   "outputs": [
    {
     "data": {
      "text/plain": [
       "-74"
      ]
     },
     "execution_count": 9,
     "metadata": {},
     "output_type": "execute_result"
    }
   ],
   "source": [
    "random.randrange(-90,90,step=1)"
   ]
  },
  {
   "cell_type": "code",
   "execution_count": 10,
   "id": "05ac2a52-d1f1-4bc3-9914-4137f9f095bc",
   "metadata": {},
   "outputs": [
    {
     "data": {
      "text/plain": [
       "57.96587344166633"
      ]
     },
     "execution_count": 10,
     "metadata": {},
     "output_type": "execute_result"
    }
   ],
   "source": [
    "random.uniform(-90,90)"
   ]
  },
  {
   "cell_type": "code",
   "execution_count": 11,
   "id": "ac311cc1-5ec7-413e-a864-e677e3388dad",
   "metadata": {},
   "outputs": [],
   "source": [
    "#import the Numpy module\n",
    "import numpy as np"
   ]
  },
  {
   "cell_type": "code",
   "execution_count": 15,
   "id": "7983c64c-48bb-42a2-83b1-02f014c6f3ac",
   "metadata": {},
   "outputs": [],
   "source": [
    "# Import timeit\n",
    "import timeit"
   ]
  },
  {
   "cell_type": "code",
   "execution_count": 18,
   "id": "a86de194-0b43-4f97-9904-cb92386d3eaa",
   "metadata": {},
   "outputs": [
    {
     "name": "stdout",
     "output_type": "stream",
     "text": [
      "3.38 µs ± 7.8 ns per loop (mean ± std. dev. of 7 runs, 100000 loops each)\n"
     ]
    }
   ],
   "source": [
    "%timeit np.random.uniform(low= -90, high = 90, size= 150)"
   ]
  },
  {
   "cell_type": "code",
   "execution_count": 20,
   "id": "366521ad-a705-45e6-9d51-766b3d4efa06",
   "metadata": {},
   "outputs": [
    {
     "name": "stdout",
     "output_type": "stream",
     "text": [
      "1.41 ms ± 5.73 µs per loop (mean ± std. dev. of 7 runs, 1000 loops each)\n"
     ]
    }
   ],
   "source": [
    "def latitudes(size):\n",
    "    latitudes = []\n",
    "    x = 0\n",
    "    while x < (size):\n",
    "        random_lat = random.randint(-90, 90) + random.random()\n",
    "        latitudes.append(random_lat)\n",
    "        x += 1\n",
    "    return latitudes\n",
    "# Call the function with 1500.\n",
    "%timeit latitudes(1500)"
   ]
  },
  {
   "cell_type": "code",
   "execution_count": null,
   "id": "f55c3f41-b182-4af6-ad74-f42e06c27e0c",
   "metadata": {},
   "outputs": [],
   "source": []
  }
 ],
 "metadata": {
  "kernelspec": {
   "display_name": "PythonData",
   "language": "python",
   "name": "pythondata"
  },
  "language_info": {
   "codemirror_mode": {
    "name": "ipython",
    "version": 3
   },
   "file_extension": ".py",
   "mimetype": "text/x-python",
   "name": "python",
   "nbconvert_exporter": "python",
   "pygments_lexer": "ipython3",
   "version": "3.7.10"
  }
 },
 "nbformat": 4,
 "nbformat_minor": 5
}
